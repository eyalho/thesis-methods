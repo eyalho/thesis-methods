{
 "cells": [
  {
   "cell_type": "code",
   "execution_count": 1,
   "id": "after-spotlight",
   "metadata": {},
   "outputs": [],
   "source": [
    "GPU = True"
   ]
  },
  {
   "cell_type": "code",
   "execution_count": 2,
   "id": "professional-retention",
   "metadata": {},
   "outputs": [],
   "source": [
    "import os\n",
    "from tqdm import tqdm\n",
    "from termcolor import colored\n",
    "import numpy as np"
   ]
  },
  {
   "cell_type": "code",
   "execution_count": 3,
   "id": "congressional-police",
   "metadata": {},
   "outputs": [],
   "source": [
    "import warnings\n",
    "warnings.filterwarnings(\"ignore\", category=DeprecationWarning) \n"
   ]
  },
  {
   "cell_type": "markdown",
   "id": "nervous-challenge",
   "metadata": {},
   "source": [
    "### Mnist Dataset"
   ]
  },
  {
   "cell_type": "code",
   "execution_count": 4,
   "id": "personalized-schema",
   "metadata": {},
   "outputs": [],
   "source": [
    "from torch.utils.data import Dataset\n",
    "import warnings\n",
    "from PIL import Image\n",
    "import os\n",
    "import os.path\n",
    "import numpy as np\n",
    "import torch\n",
    "import codecs\n",
    "import string\n",
    "import gzip\n",
    "import lzma\n",
    "from torchvision.datasets.utils import download_url, download_and_extract_archive, extract_archive, \\\n",
    "    verify_str_arg\n",
    "\n",
    "class MNIST(Dataset):\n",
    "    \"\"\"`MNIST <http://yann.lecun.com/exdb/mnist/>`_ Dataset.\n",
    "\n",
    "    Args:\n",
    "        root (string): Root directory of dataset where ``MNIST/processed/training.pt``\n",
    "            and  ``MNIST/processed/test.pt`` exist.\n",
    "        train (bool, optional): If True, creates dataset from ``training.pt``,\n",
    "            otherwise from ``test.pt``.\n",
    "        download (bool, optional): If true, downloads the dataset from the internet and\n",
    "            puts it in root directory. If dataset is already downloaded, it is not\n",
    "            downloaded again.\n",
    "        transform (callable, optional): A function/transform that  takes in an PIL image\n",
    "            and returns a transformed version. E.g, ``transforms.RandomCrop``\n",
    "        target_transform (callable, optional): A function/transform that takes in the\n",
    "            target and transforms it.\n",
    "    \"\"\"\n",
    "\n",
    "    resources = [\n",
    "        (\"http://yann.lecun.com/exdb/mnist/train-images-idx3-ubyte.gz\", \"f68b3c2dcbeaaa9fbdd348bbdeb94873\"),\n",
    "        (\"http://yann.lecun.com/exdb/mnist/train-labels-idx1-ubyte.gz\", \"d53e105ee54ea40749a09fcbcd1e9432\"),\n",
    "        (\"http://yann.lecun.com/exdb/mnist/t10k-images-idx3-ubyte.gz\", \"9fb629c4189551a2d022fa330f9573f3\"),\n",
    "        (\"http://yann.lecun.com/exdb/mnist/t10k-labels-idx1-ubyte.gz\", \"ec29112dd5afa0611ce80d1b7f02629c\")\n",
    "    ]\n",
    "\n",
    "    training_file = 'training.pt'\n",
    "    test_file = 'test.pt'\n",
    "    classes = ['0 - zero', '1 - one', '2 - two', '3 - three', '4 - four',\n",
    "               '5 - five', '6 - six', '7 - seven', '8 - eight', '9 - nine']\n",
    "\n",
    "    @property\n",
    "    def train_labels(self):\n",
    "        warnings.warn(\"train_labels has been renamed targets\")\n",
    "        return self.targets\n",
    "\n",
    "    @property\n",
    "    def test_labels(self):\n",
    "        warnings.warn(\"test_labels has been renamed targets\")\n",
    "        return self.targets\n",
    "\n",
    "    @property\n",
    "    def train_data(self):\n",
    "        warnings.warn(\"train_data has been renamed data\")\n",
    "        return self.data\n",
    "\n",
    "    @property\n",
    "    def test_data(self):\n",
    "        warnings.warn(\"test_data has been renamed data\")\n",
    "        return self.data\n",
    "\n",
    "    def __init__(self, root=\"../tmp\", train=True,\n",
    "            transform=None, download=False):\n",
    "        super(MNIST, self).__init__()\n",
    "        self.root = root\n",
    "        self.transform = transform\n",
    "        self.train = train  # training set or test set\n",
    "\n",
    "        if download:\n",
    "            self.download()\n",
    "\n",
    "        if not self._check_exists():\n",
    "            raise RuntimeError('Dataset not found.' +\n",
    "                               ' You can use download=True to download it')\n",
    "\n",
    "        if self.train:\n",
    "            data_file = self.training_file\n",
    "        else:\n",
    "            data_file = self.test_file\n",
    "        self.data, self.targets = torch.load(os.path.join(self.processed_folder, data_file))\n",
    "\n",
    "    def __getitem__(self, index):\n",
    "        \"\"\"\n",
    "        Args:\n",
    "            index (int): Index\n",
    "\n",
    "        Returns:\n",
    "            tuple: (image, target) where target is index of the target class.\n",
    "        \"\"\"\n",
    "        img, target = self.data[index], int(self.targets[index])\n",
    "\n",
    "        # doing this so that it is consistent with all other datasets\n",
    "        # to return a PIL Image\n",
    "        img = Image.fromarray(img.numpy(), mode='L')\n",
    "        img_size = img.size\n",
    "\n",
    "        if self.transform is not None:\n",
    "            img = self.transform(img)\n",
    "\n",
    "        out = {'image': img, 'target': target, 'meta': {'im_size': img_size, 'index': index}}\n",
    "\n",
    "        return out\n",
    "\n",
    "    def get_image(self, index):\n",
    "        img = self.data[index]\n",
    "        return img\n",
    "\n",
    "    def __len__(self):\n",
    "        return len(self.data)\n",
    "\n",
    "    @property\n",
    "    def raw_folder(self):\n",
    "        return os.path.join(self.root, self.__class__.__name__, 'raw')\n",
    "\n",
    "    @property\n",
    "    def processed_folder(self):\n",
    "        return os.path.join(self.root, self.__class__.__name__, 'processed')\n",
    "\n",
    "    @property\n",
    "    def class_to_idx(self):\n",
    "        return {_class: i for i, _class in enumerate(self.classes)}\n",
    "\n",
    "    def _check_exists(self):\n",
    "        return (os.path.exists(os.path.join(self.processed_folder,\n",
    "                                            self.training_file)) and\n",
    "                os.path.exists(os.path.join(self.processed_folder,\n",
    "                                            self.test_file)))\n",
    "\n",
    "    def download(self):\n",
    "        \"\"\"Download the MNIST data if it doesn't exist in processed_folder already.\"\"\"\n",
    "\n",
    "        if self._check_exists():\n",
    "            return\n",
    "\n",
    "        os.makedirs(self.raw_folder, exist_ok=True)\n",
    "        os.makedirs(self.processed_folder, exist_ok=True)\n",
    "\n",
    "        # download files\n",
    "        for url, md5 in self.resources:\n",
    "            filename = url.rpartition('/')[2]\n",
    "            download_and_extract_archive(url, download_root=self.raw_folder, filename=filename, md5=md5)\n",
    "\n",
    "        # process and save as torch files\n",
    "        print('Processing...')\n",
    "\n",
    "        training_set = (\n",
    "            read_image_file(os.path.join(self.raw_folder, 'train-images-idx3-ubyte')),\n",
    "            read_label_file(os.path.join(self.raw_folder, 'train-labels-idx1-ubyte'))\n",
    "        )\n",
    "        test_set = (\n",
    "            read_image_file(os.path.join(self.raw_folder, 't10k-images-idx3-ubyte')),\n",
    "            read_label_file(os.path.join(self.raw_folder, 't10k-labels-idx1-ubyte'))\n",
    "        )\n",
    "        with open(os.path.join(self.processed_folder, self.training_file), 'wb') as f:\n",
    "            torch.save(training_set, f)\n",
    "        with open(os.path.join(self.processed_folder, self.test_file), 'wb') as f:\n",
    "            torch.save(test_set, f)\n",
    "\n",
    "        print('Done!')\n",
    "\n"
   ]
  },
  {
   "cell_type": "markdown",
   "id": "healthy-windsor",
   "metadata": {},
   "source": [
    "### SimCLR"
   ]
  },
  {
   "cell_type": "code",
   "execution_count": 5,
   "id": "cooperative-prisoner",
   "metadata": {},
   "outputs": [],
   "source": [
    "# Configuration\n",
    "base_folder = \"/tmp\"\n",
    "p = {'setup': 'simclr',\n",
    " 'backbone': 'simple_net',\n",
    " 'model_kwargs': {'head': 'mlp', 'features_dim': 128},\n",
    " 'train_db_name': 'mnist',\n",
    " 'val_db_name': 'mnist',\n",
    " 'num_classes': 10,\n",
    " 'criterion': 'simclr',\n",
    " 'criterion_kwargs': {'temperature': 0.1},\n",
    " 'epochs': 31,\n",
    " 'optimizer': 'sgd',\n",
    " 'optimizer_kwargs': {'nesterov': False,\n",
    "  'weight_decay': 0.0001,\n",
    "  'momentum': 0.9,\n",
    "  'lr': 0.4},\n",
    " 'scheduler': 'cosine',\n",
    " 'scheduler_kwargs': {'lr_decay_rate': 0.1},\n",
    " 'batch_size': 48,\n",
    " 'num_workers': 8,\n",
    " 'augmentation_strategy': 'simclr',\n",
    " 'augmentation_kwargs': \n",
    "     {'random_resized_crop': {'size': 32, 'scale': [0.2, 1.0]},\n",
    "      'color_jitter_random_apply': {'p': 0.8},\n",
    "      'color_jitter': {'brightness': 0.4, 'contrast': 0.4, 'saturation': 0.4, 'hue': 0.1},\n",
    "      'random_grayscale': {'p': 0.2},\n",
    "      'normalize': {'mean': [0.5], 'std': [0.5]}\n",
    "     },\n",
    " 'transformation_kwargs': \n",
    "     {'crop_size': 32,\n",
    "      'normalize': {'mean': [0.5], 'std': [0.5]}\n",
    "     },\n",
    " 'pretext_dir': f'{base_folder}/mnist/pretext',\n",
    " 'pretext_checkpoint': f'{base_folder}/mnist/pretext/checkpoint.pth.tar',\n",
    " 'pretext_model': f'{base_folder}/mnist/pretext/model.pth.tar',\n",
    " 'topk_neighbors_train_path': f'{base_folder}/mnist/pretext/topk-train-neighbors.npy',\n",
    " 'topk_neighbors_val_path': f'{base_folder}/mnist/pretext/topk-val-neighbors.npy'}\n",
    "\n",
    "\n",
    "\n"
   ]
  },
  {
   "cell_type": "code",
   "execution_count": 6,
   "id": "dedicated-officer",
   "metadata": {},
   "outputs": [],
   "source": [
    "# Create dst directories\n",
    "os.makedirs(os.path.dirname(p['pretext_dir']), exist_ok=True)\n",
    "os.makedirs(os.path.dirname(p['pretext_checkpoint']), exist_ok=True)\n",
    "os.makedirs(os.path.dirname(p['pretext_model']), exist_ok=True)\n",
    "os.makedirs(os.path.dirname(p['topk_neighbors_train_path']), exist_ok=True)\n",
    "os.makedirs(os.path.dirname(p['topk_neighbors_val_path']), exist_ok=True)\n"
   ]
  },
  {
   "cell_type": "markdown",
   "id": "composite-female",
   "metadata": {},
   "source": [
    "#### Model"
   ]
  },
  {
   "cell_type": "code",
   "execution_count": 7,
   "id": "direct-characteristic",
   "metadata": {},
   "outputs": [],
   "source": [
    "import torch\n",
    "import torch.nn as nn\n",
    "import torch.nn.functional as F"
   ]
  },
  {
   "cell_type": "code",
   "execution_count": 8,
   "id": "electoral-worst",
   "metadata": {},
   "outputs": [],
   "source": [
    "class ContrastiveModel(nn.Module):\n",
    "    def __init__(self, backbone, head='mlp', features_dim=128):\n",
    "        super(ContrastiveModel, self).__init__()\n",
    "        self.backbone = backbone['backbone']\n",
    "        self.backbone_dim = backbone['dim']\n",
    "        self.head = head\n",
    " \n",
    "        if head == 'linear':\n",
    "            self.contrastive_head = nn.Linear(self.backbone_dim, features_dim)\n",
    "\n",
    "        elif head == 'mlp':\n",
    "            self.contrastive_head = nn.Sequential(\n",
    "                    nn.Linear(self.backbone_dim, self.backbone_dim),\n",
    "                    nn.ReLU(), nn.Linear(self.backbone_dim, features_dim))\n",
    "        \n",
    "        else:\n",
    "            raise ValueError('Invalid head {}'.format(head))\n",
    "\n",
    "    def forward(self, x):\n",
    "        features = self.contrastive_head(self.backbone(x))\n",
    "        features = F.normalize(features, dim=1)\n",
    "        return features\n"
   ]
  },
  {
   "cell_type": "code",
   "execution_count": 9,
   "id": "characteristic-arlington",
   "metadata": {},
   "outputs": [],
   "source": [
    "class SimpleNet(nn.Module):\n",
    "    def __init__(self):\n",
    "        super(SimpleNet, self).__init__()\n",
    "        self.conv1 = nn.Conv2d(1, 32, 3, 1)\n",
    "        self.conv2 = nn.Conv2d(32, 64, 3, 1)\n",
    "        self.dropout1 = nn.Dropout(0.25)\n",
    "        self.dropout2 = nn.Dropout(0.5)\n",
    "        self.fc1 = nn.Linear(12544, 128)\n",
    "        # self.fc2 = nn.Linear(128, 10)\n",
    "\n",
    "    def forward(self, x):\n",
    "        x = self.conv1(x)\n",
    "        x = F.relu(x)\n",
    "        x = self.conv2(x)\n",
    "        x = F.relu(x)\n",
    "        x = F.max_pool2d(x, 2)\n",
    "        x = self.dropout1(x)\n",
    "        x = torch.flatten(x, 1)\n",
    "        x = self.fc1(x)\n",
    "        x = F.relu(x)\n",
    "        # x = self.dropout2(x)\n",
    "        # x = self.fc2(x)\n",
    "        # output = F.log_softmax(x, dim=1)\n",
    "        output = x\n",
    "        return output\n",
    "\n",
    "def simple_net(**kwargs):\n",
    "    return {'backbone': SimpleNet(), 'dim': 128}\n"
   ]
  },
  {
   "cell_type": "markdown",
   "id": "dying-diameter",
   "metadata": {},
   "source": [
    "#### SimCLR Loss"
   ]
  },
  {
   "cell_type": "code",
   "execution_count": 10,
   "id": "opened-beatles",
   "metadata": {},
   "outputs": [],
   "source": [
    "import torch\n",
    "import torch.nn as nn\n",
    "import torch.nn.functional as F\n",
    "EPS=1e-8\n",
    "\n",
    "\n",
    "class SimCLRLoss(nn.Module):\n",
    "    # Based on the implementation of SupContrast\n",
    "    def __init__(self, temperature):\n",
    "        super(SimCLRLoss, self).__init__()\n",
    "        self.temperature = temperature\n",
    "\n",
    "    \n",
    "    def forward(self, features):\n",
    "        \"\"\"\n",
    "        input:\n",
    "            - features: hidden feature representation of shape [b, 2, dim]\n",
    "\n",
    "        output:\n",
    "            - loss: loss computed according to SimCLR \n",
    "        \"\"\"\n",
    "\n",
    "        b, n, dim = features.size()\n",
    "        assert(n == 2)\n",
    "        mask = torch.eye(b, dtype=torch.float32).cuda()\n",
    "\n",
    "        contrast_features = torch.cat(torch.unbind(features, dim=1), dim=0)\n",
    "        anchor = features[:, 0]\n",
    "\n",
    "        # Dot product\n",
    "        dot_product = torch.matmul(anchor, contrast_features.T) / self.temperature\n",
    "        \n",
    "        # Log-sum trick for numerical stability\n",
    "        logits_max, _ = torch.max(dot_product, dim=1, keepdim=True)\n",
    "        logits = dot_product - logits_max.detach()\n",
    "\n",
    "        mask = mask.repeat(1, 2)\n",
    "        logits_mask = torch.scatter(torch.ones_like(mask), 1, torch.arange(b).view(-1, 1).cuda(), 0)\n",
    "        mask = mask * logits_mask\n",
    "\n",
    "        # Log-softmax\n",
    "        exp_logits = torch.exp(logits) * logits_mask\n",
    "        log_prob = logits - torch.log(exp_logits.sum(1, keepdim=True))\n",
    "        \n",
    "        # Mean log-likelihood for positive\n",
    "        loss = - ((mask * log_prob).sum(1) / mask.sum(1)).mean()\n",
    "\n",
    "        return loss\n"
   ]
  },
  {
   "cell_type": "code",
   "execution_count": 11,
   "id": "structured-tractor",
   "metadata": {},
   "outputs": [],
   "source": [
    "features = torch.tensor(np.zeros((8,2,100)))\n",
    "features.size()\n",
    "b, n, dim = features.size()\n",
    "assert(n == 2)\n",
    "mask = torch.eye(b, dtype=torch.float32).cuda()\n",
    "\n",
    "contrast_features = torch.cat(torch.unbind(features, dim=1), dim=0)\n",
    "anchor = features[:, 0]\n"
   ]
  },
  {
   "cell_type": "code",
   "execution_count": 12,
   "id": "instrumental-intro",
   "metadata": {},
   "outputs": [
    {
     "data": {
      "text/plain": [
       "torch.Size([100, 16])"
      ]
     },
     "execution_count": 12,
     "metadata": {},
     "output_type": "execute_result"
    }
   ],
   "source": [
    "contrast_features.T.size()"
   ]
  },
  {
   "cell_type": "code",
   "execution_count": 13,
   "id": "overall-bishop",
   "metadata": {},
   "outputs": [
    {
     "data": {
      "text/plain": [
       "torch.Size([8, 16])"
      ]
     },
     "execution_count": 13,
     "metadata": {},
     "output_type": "execute_result"
    }
   ],
   "source": [
    "x=torch.matmul(anchor, contrast_features.T) / 1\n",
    "x.size()"
   ]
  },
  {
   "cell_type": "markdown",
   "id": "hispanic-removal",
   "metadata": {},
   "source": [
    "#### Init model"
   ]
  },
  {
   "cell_type": "code",
   "execution_count": 14,
   "id": "contrary-offer",
   "metadata": {},
   "outputs": [
    {
     "name": "stdout",
     "output_type": "stream",
     "text": [
      "Model parameters: 1.66M\n"
     ]
    }
   ],
   "source": [
    "backbone = simple_net()\n",
    "model = ContrastiveModel(backbone, **p['model_kwargs'])\n",
    "if GPU:\n",
    "    model = model.cuda()\n",
    "\n",
    "print('Model parameters: {:.2f}M'.format(sum(p.numel() for p in model.parameters()) / 1e6))\n",
    "# print(model)\n"
   ]
  },
  {
   "cell_type": "markdown",
   "id": "mineral-certificate",
   "metadata": {},
   "source": [
    "### Augmentations"
   ]
  },
  {
   "cell_type": "code",
   "execution_count": 15,
   "id": "nutritional-keeping",
   "metadata": {},
   "outputs": [],
   "source": [
    "import torchvision.transforms as transforms"
   ]
  },
  {
   "cell_type": "code",
   "execution_count": 16,
   "id": "internal-representative",
   "metadata": {},
   "outputs": [
    {
     "name": "stdout",
     "output_type": "stream",
     "text": [
      "Train transforms: Compose(\n",
      "    Resize(size=48, interpolation=PIL.Image.BILINEAR)\n",
      "    RandomResizedCrop(size=(32, 32), scale=(0.2, 1.0), ratio=(0.75, 1.3333), interpolation=PIL.Image.BILINEAR)\n",
      "    RandomHorizontalFlip(p=0.5)\n",
      "    RandomApply(\n",
      "    p=0.8\n",
      "    ColorJitter(brightness=[0.6, 1.4], contrast=[0.6, 1.4], saturation=[0.6, 1.4], hue=[-0.1, 0.1])\n",
      ")\n",
      "    RandomGrayscale(p=0.2)\n",
      "    ToTensor()\n",
      "    Normalize(mean=[0.5], std=[0.5])\n",
      ")\n"
     ]
    }
   ],
   "source": [
    "train_transforms =  transforms.Compose([\n",
    "                transforms.Resize(48),\n",
    "                transforms.RandomResizedCrop(**p['augmentation_kwargs']['random_resized_crop']),\n",
    "                transforms.RandomHorizontalFlip(),\n",
    "                transforms.RandomApply(\n",
    "                    [transforms.ColorJitter(**p['augmentation_kwargs']['color_jitter'])],\n",
    "                    p=p['augmentation_kwargs']['color_jitter_random_apply']['p']\n",
    "                ),\n",
    "                transforms.RandomGrayscale(**p['augmentation_kwargs']['random_grayscale']),\n",
    "                transforms.ToTensor(),\n",
    "                transforms.Normalize(**p['augmentation_kwargs']['normalize'])\n",
    "            ])\n",
    "print('Train transforms:', train_transforms)\n"
   ]
  },
  {
   "cell_type": "code",
   "execution_count": 17,
   "id": "answering-yacht",
   "metadata": {},
   "outputs": [
    {
     "name": "stdout",
     "output_type": "stream",
     "text": [
      "Val transforms: Compose(\n",
      "    Resize(size=48, interpolation=PIL.Image.BILINEAR)\n",
      "    CenterCrop(size=(32, 32))\n",
      "    ToTensor()\n",
      "    Normalize(mean=[0.5], std=[0.5])\n",
      ")\n"
     ]
    }
   ],
   "source": [
    "val_transforms = transforms.Compose([\n",
    "            transforms.Resize(48),\n",
    "            transforms.CenterCrop(p['transformation_kwargs']['crop_size']),\n",
    "            transforms.ToTensor(),\n",
    "            transforms.Normalize(**p['transformation_kwargs']['normalize'])])\n",
    "print('Val transforms:', val_transforms)\n"
   ]
  },
  {
   "cell_type": "markdown",
   "id": "thirty-trouble",
   "metadata": {},
   "source": [
    "### Load datasets"
   ]
  },
  {
   "cell_type": "code",
   "execution_count": 18,
   "id": "opened-sentence",
   "metadata": {},
   "outputs": [],
   "source": [
    "from torch.utils.data import Dataset"
   ]
  },
  {
   "cell_type": "markdown",
   "id": "reliable-prescription",
   "metadata": {},
   "source": [
    "#### Original dataset"
   ]
  },
  {
   "cell_type": "code",
   "execution_count": 19,
   "id": "historic-turner",
   "metadata": {},
   "outputs": [],
   "source": [
    "train_dataset = MNIST(root=f\"{base_folder}\", train=True, transform=train_transforms, download=True)\n",
    "val_dataset   = MNIST(root=f\"{base_folder}\", train=False, transform=val_transforms, download=True)"
   ]
  },
  {
   "cell_type": "markdown",
   "id": "latest-chinese",
   "metadata": {},
   "source": [
    "#### Augmentated datase"
   ]
  },
  {
   "cell_type": "code",
   "execution_count": 20,
   "id": "entertaining-character",
   "metadata": {},
   "outputs": [],
   "source": [
    "import numpy as np\n",
    "import torch\n",
    "from torch.utils.data import Dataset\n",
    "\n",
    "class AugmentedDataset(Dataset):\n",
    "    def __init__(self, dataset):\n",
    "        super(AugmentedDataset, self).__init__()\n",
    "        transform = dataset.transform\n",
    "        dataset.transform = None\n",
    "        self.dataset = dataset\n",
    "        \n",
    "        self.image_transform = transform\n",
    "        self.augmentation_transform = transform\n",
    "\n",
    "    def __len__(self):\n",
    "        return len(self.dataset)\n",
    "\n",
    "    def __getitem__(self, index):\n",
    "        sample = self.dataset.__getitem__(index)\n",
    "        image = sample['image']\n",
    "        \n",
    "        sample['image'] = self.image_transform(image)\n",
    "        sample['image_augmented'] = self.augmentation_transform(image)\n",
    "\n",
    "        return sample\n"
   ]
  },
  {
   "cell_type": "code",
   "execution_count": 21,
   "id": "liked-egyptian",
   "metadata": {},
   "outputs": [],
   "source": [
    "# Dataset returns an image and an augmentation of that image.\n",
    "train_dataset = AugmentedDataset(train_dataset)\n"
   ]
  },
  {
   "cell_type": "code",
   "execution_count": 22,
   "id": "desperate-alcohol",
   "metadata": {},
   "outputs": [
    {
     "data": {
      "text/plain": [
       "{'image': tensor([[[-1.0000, -1.0000, -1.0000,  ..., -1.0000, -1.0000, -1.0000],\n",
       "          [-1.0000, -1.0000, -1.0000,  ..., -1.0000, -1.0000, -1.0000],\n",
       "          [-1.0000, -1.0000, -1.0000,  ..., -1.0000, -1.0000, -1.0000],\n",
       "          ...,\n",
       "          [-1.0000, -1.0000, -1.0000,  ..., -1.0000, -1.0000, -1.0000],\n",
       "          [-1.0000, -1.0000, -1.0000,  ..., -1.0000, -1.0000, -1.0000],\n",
       "          [-1.0000, -1.0000, -1.0000,  ..., -0.9216, -1.0000, -1.0000]]]),\n",
       " 'target': 9,\n",
       " 'meta': {'im_size': (28, 28), 'index': 4},\n",
       " 'image_augmented': tensor([[[-0.9059, -0.9059, -0.9059,  ..., -0.9059, -0.9059, -0.9059],\n",
       "          [-0.9059, -0.9059, -0.9059,  ..., -0.9059, -0.9059, -0.9059],\n",
       "          [-0.9059, -0.9059, -0.9059,  ..., -0.9059, -0.9059, -0.9059],\n",
       "          ...,\n",
       "          [-0.9059, -0.9059, -0.9059,  ..., -0.9059, -0.9059, -0.9059],\n",
       "          [-0.9059, -0.9059, -0.9059,  ..., -0.9059, -0.9059, -0.9059],\n",
       "          [-0.9059, -0.9059, -0.9059,  ..., -0.9059, -0.9059, -0.9059]]])}"
      ]
     },
     "execution_count": 22,
     "metadata": {},
     "output_type": "execute_result"
    }
   ],
   "source": [
    "# Example of new dataset items:\n",
    "train_dataset.__getitem__(4)"
   ]
  },
  {
   "cell_type": "markdown",
   "id": "least-welding",
   "metadata": {},
   "source": [
    "#### Dataloaders"
   ]
  },
  {
   "cell_type": "code",
   "execution_count": 23,
   "id": "quantitative-minneapolis",
   "metadata": {},
   "outputs": [
    {
     "name": "stdout",
     "output_type": "stream",
     "text": [
      "8\n",
      "48\n"
     ]
    }
   ],
   "source": [
    "print(p['num_workers']) # 8\n",
    "print(p['batch_size']) # 48\n",
    "import collections\n",
    "from torch._six import string_classes, int_classes\n",
    "\n",
    "# Not sure why?\n",
    "def collate_custom(batch):\n",
    "    if isinstance(batch[0], np.int64):\n",
    "        return np.stack(batch, 0)\n",
    "\n",
    "    if isinstance(batch[0], torch.Tensor):\n",
    "        return torch.stack(batch, 0)\n",
    "\n",
    "    elif isinstance(batch[0], np.ndarray):\n",
    "        return np.stack(batch, 0)\n",
    "\n",
    "    elif isinstance(batch[0], int_classes):\n",
    "        return torch.LongTensor(batch)\n",
    "\n",
    "    elif isinstance(batch[0], float):\n",
    "        return torch.FloatTensor(batch)\n",
    "\n",
    "    elif isinstance(batch[0], string_classes):\n",
    "        return batch\n",
    "\n",
    "    elif isinstance(batch[0], collections.Mapping):\n",
    "        batch_modified = {key: collate_custom([d[key] for d in batch]) for key in batch[0] if key.find('idx') < 0}\n",
    "        return batch_modified\n",
    "\n",
    "    elif isinstance(batch[0], collections.Sequence):\n",
    "        transposed = zip(*batch)\n",
    "        return [collate_custom(samples) for samples in transposed]\n",
    "\n",
    "    raise TypeError(('Type is {}'.format(type(batch[0]))))\n",
    "\n",
    "\n",
    "\n",
    "train_dataloader = torch.utils.data.DataLoader(train_dataset, num_workers=p['num_workers'],\n",
    "                                       batch_size=p['batch_size'], pin_memory=True, collate_fn=collate_custom,\n",
    "                                       drop_last=True, shuffle=True)\n",
    "\n",
    "\n",
    "val_dataloader = torch.utils.data.DataLoader(val_dataset, num_workers=p['num_workers'],\n",
    "                                       batch_size=p['batch_size'], pin_memory=True, collate_fn=collate_custom,\n",
    "                                       drop_last=False, shuffle=False)\n"
   ]
  },
  {
   "cell_type": "markdown",
   "id": "saved-korean",
   "metadata": {},
   "source": [
    "#### criterion\n"
   ]
  },
  {
   "cell_type": "code",
   "execution_count": 24,
   "id": "annual-firewall",
   "metadata": {},
   "outputs": [
    {
     "name": "stdout",
     "output_type": "stream",
     "text": [
      "{'temperature': 0.1}\n"
     ]
    }
   ],
   "source": [
    "print(p['criterion_kwargs']) # {'temperature': 0.1}\n",
    "criterion = SimCLRLoss(**p['criterion_kwargs'])\n",
    "criterion = criterion.cuda()\n"
   ]
  },
  {
   "cell_type": "markdown",
   "id": "lonely-value",
   "metadata": {},
   "source": [
    "#### Optimizer"
   ]
  },
  {
   "cell_type": "code",
   "execution_count": 25,
   "id": "strong-welcome",
   "metadata": {},
   "outputs": [
    {
     "name": "stdout",
     "output_type": "stream",
     "text": [
      "sgd\n",
      "{'nesterov': False, 'weight_decay': 0.0001, 'momentum': 0.9, 'lr': 0.4}\n"
     ]
    }
   ],
   "source": [
    "def get_optimizer(p, model, cluster_head_only=False):\n",
    "    # Not sure why?\n",
    "    if cluster_head_only:  # Only weights in the cluster head will be updated\n",
    "        for name, param in model.named_parameters():\n",
    "            if 'cluster_head' in name:\n",
    "                param.requires_grad = True\n",
    "            else:\n",
    "                param.requires_grad = False\n",
    "        params = list(filter(lambda p: p.requires_grad, model.parameters()))\n",
    "        assert (len(params) == 2 * p['num_heads'])\n",
    "\n",
    "    else:\n",
    "        params = model.parameters()\n",
    "\n",
    "    if p['optimizer'] == 'sgd':\n",
    "        optimizer = torch.optim.SGD(params, **p['optimizer_kwargs'])\n",
    "\n",
    "    elif p['optimizer'] == 'adam':\n",
    "        optimizer = torch.optim.Adam(params, **p['optimizer_kwargs'])\n",
    "\n",
    "    else:\n",
    "        raise ValueError('Invalid optimizer {}'.format(p['optimizer']))\n",
    "\n",
    "    return optimizer\n",
    "\n",
    "\n",
    "print(p['optimizer']) # sgd\n",
    "print(p['optimizer_kwargs']) # {'nesterov': False, 'weight_decay': 0.0001, 'momentum': 0.9, 'lr': 0.4}\n",
    "optimizer = get_optimizer(p, model)\n"
   ]
  },
  {
   "cell_type": "markdown",
   "id": "peaceful-johnson",
   "metadata": {},
   "source": [
    "#### Checkpoint"
   ]
  },
  {
   "cell_type": "code",
   "execution_count": 26,
   "id": "incident-exchange",
   "metadata": {},
   "outputs": [
    {
     "name": "stdout",
     "output_type": "stream",
     "text": [
      "\u001b[34mRestart from checkpoint /tmp/mnist/pretext/checkpoint.pth.tar\u001b[0m\n"
     ]
    }
   ],
   "source": [
    "# Checkpoint\n",
    "if os.path.exists(p['pretext_checkpoint']):\n",
    "    print(colored('Restart from checkpoint {}'.format(p['pretext_checkpoint']), 'blue'))\n",
    "    checkpoint = torch.load(p['pretext_checkpoint'], map_location='cpu')\n",
    "    optimizer.load_state_dict(checkpoint['optimizer'])\n",
    "    model.load_state_dict(checkpoint['model'])\n",
    "    model.cuda()\n",
    "    start_epoch = checkpoint['epoch']\n",
    "\n",
    "else:\n",
    "    print(colored('No checkpoint file at {}'.format(p['pretext_checkpoint']), 'blue'))\n",
    "    start_epoch = 0\n",
    "    model = model.cuda()\n",
    "    model = model\n"
   ]
  },
  {
   "cell_type": "markdown",
   "id": "wireless-optimization",
   "metadata": {},
   "source": [
    "### Training"
   ]
  },
  {
   "cell_type": "markdown",
   "id": "spare-interaction",
   "metadata": {},
   "source": [
    "#### Learning rate strategy"
   ]
  },
  {
   "cell_type": "code",
   "execution_count": 27,
   "id": "amended-coating",
   "metadata": {},
   "outputs": [],
   "source": [
    "def adjust_learning_rate(p, optimizer, epoch):\n",
    "    import math\n",
    "    lr = p['optimizer_kwargs']['lr']\n",
    "\n",
    "    if p['scheduler'] == 'cosine':\n",
    "        eta_min = lr * (p['scheduler_kwargs']['lr_decay_rate'] ** 3)\n",
    "        lr = eta_min + (lr - eta_min) * (1 + math.cos(math.pi * epoch / p['epochs'])) / 2\n",
    "\n",
    "    elif p['scheduler'] == 'step':\n",
    "        steps = np.sum(epoch > np.array(p['scheduler_kwargs']['lr_decay_epochs']))\n",
    "        if steps > 0:\n",
    "            lr = lr * (p['scheduler_kwargs']['lr_decay_rate'] ** steps)\n",
    "\n",
    "    elif p['scheduler'] == 'constant':\n",
    "        lr = lr\n",
    "\n",
    "    else:\n",
    "        raise ValueError('Invalid learning rate schedule {}'.format(p['scheduler']))\n",
    "\n",
    "    for param_group in optimizer.param_groups:\n",
    "        param_group['lr'] = lr\n",
    "\n",
    "    return lr\n"
   ]
  },
  {
   "cell_type": "markdown",
   "id": "median-benefit",
   "metadata": {},
   "source": [
    "#### AverageMeter + ProgressMeter"
   ]
  },
  {
   "cell_type": "code",
   "execution_count": 28,
   "id": "variable-photographer",
   "metadata": {},
   "outputs": [],
   "source": [
    "class AverageMeter(object):\n",
    "    def __init__(self, name, fmt=':f'):\n",
    "        self.name = name\n",
    "        self.fmt = fmt\n",
    "        self.reset()\n",
    "\n",
    "    def reset(self):\n",
    "        self.val = 0\n",
    "        self.avg = 0\n",
    "        self.sum = 0\n",
    "        self.count = 0\n",
    "\n",
    "    def update(self, val, n=1):\n",
    "        self.val = val\n",
    "        self.sum += val * n\n",
    "        self.count += n\n",
    "        self.avg = self.sum / self.count\n",
    "\n",
    "    def __str__(self):\n",
    "        fmtstr = '{name} {val' + self.fmt + '} ({avg' + self.fmt + '})'\n",
    "        return fmtstr.format(**self.__dict__)\n"
   ]
  },
  {
   "cell_type": "code",
   "execution_count": 29,
   "id": "peripheral-interference",
   "metadata": {},
   "outputs": [],
   "source": [
    "class ProgressMeter(object):\n",
    "    def __init__(self, num_batches, meters, prefix=\"\"):\n",
    "        self.batch_fmtstr = self._get_batch_fmtstr(num_batches)\n",
    "        self.meters = meters\n",
    "        self.prefix = prefix\n",
    "\n",
    "    def display(self, batch):\n",
    "        entries = [self.prefix + self.batch_fmtstr.format(batch)]\n",
    "        entries += [str(meter) for meter in self.meters]\n",
    "        print('\\t'.join(entries))\n",
    "\n",
    "    def _get_batch_fmtstr(self, num_batches):\n",
    "        num_digits = len(str(num_batches // 1))\n",
    "        fmt = '{:' + str(num_digits) + 'd}'\n",
    "        return '[' + fmt + '/' + fmt.format(num_batches) + ']'\n",
    "\n"
   ]
  },
  {
   "cell_type": "markdown",
   "id": "raising-flower",
   "metadata": {},
   "source": [
    "#### Training function"
   ]
  },
  {
   "cell_type": "code",
   "execution_count": 30,
   "id": "violent-hopkins",
   "metadata": {},
   "outputs": [],
   "source": [
    "def simclr_train(train_loader, model, criterion, optimizer, epoch):\n",
    "    \"\"\" \n",
    "    Train according to the scheme from SimCLR\n",
    "    https://arxiv.org/abs/2002.05709\n",
    "    \"\"\"\n",
    "    losses = AverageMeter('Loss', ':.4e')\n",
    "    progress = ProgressMeter(len(train_loader),\n",
    "        [losses],\n",
    "        prefix=\"Epoch: [{}]\".format(epoch))\n",
    "\n",
    "    model.train()\n",
    "\n",
    "    for i, batch in enumerate(train_loader):\n",
    "        images = batch['image']\n",
    "        images_augmented = batch['image_augmented']\n",
    "        b, c, h, w = images.size()\n",
    "        input_ = torch.cat([images.unsqueeze(1), images_augmented.unsqueeze(1)], dim=1)\n",
    "        input_ = input_.view(-1, c, h, w) \n",
    "        input_ = input_.cuda(non_blocking=True)\n",
    "        targets = batch['target'].cuda(non_blocking=True)\n",
    "\n",
    "        output = model(input_).view(b, 2, -1)\n",
    "        loss = criterion(output)\n",
    "        losses.update(loss.item())\n",
    "\n",
    "        optimizer.zero_grad()\n",
    "        loss.backward()\n",
    "        optimizer.step()\n",
    "\n",
    "        if i % 25 == 0:\n",
    "            progress.display(i)\n"
   ]
  },
  {
   "cell_type": "markdown",
   "id": "developmental-count",
   "metadata": {},
   "source": [
    "#### Start Training process"
   ]
  },
  {
   "cell_type": "code",
   "execution_count": 31,
   "id": "artistic-solid",
   "metadata": {
    "scrolled": true
   },
   "outputs": [
    {
     "name": "stdout",
     "output_type": "stream",
     "text": [
      "\u001b[34mStarting main loop\u001b[0m\n",
      "\u001b[33mEpoch 30/31\u001b[0m\n",
      "\u001b[33m---------------\u001b[0m\n",
      "Adjusted learning rate to 0.00143\n",
      "Train ...\n",
      "Epoch: [30][   0/1250]\tLoss 6.8048e-01 (6.8048e-01)\n",
      "Epoch: [30][  25/1250]\tLoss 1.1228e+00 (9.2852e-01)\n",
      "Epoch: [30][  50/1250]\tLoss 9.6303e-01 (9.5132e-01)\n",
      "Epoch: [30][  75/1250]\tLoss 9.5643e-01 (9.5905e-01)\n",
      "Epoch: [30][ 100/1250]\tLoss 1.1131e+00 (9.6982e-01)\n",
      "Epoch: [30][ 125/1250]\tLoss 9.2225e-01 (9.6814e-01)\n",
      "Epoch: [30][ 150/1250]\tLoss 7.0908e-01 (9.6426e-01)\n",
      "Epoch: [30][ 175/1250]\tLoss 1.1326e+00 (9.7057e-01)\n",
      "Epoch: [30][ 200/1250]\tLoss 8.5974e-01 (9.7781e-01)\n",
      "Epoch: [30][ 225/1250]\tLoss 9.8173e-01 (9.7445e-01)\n",
      "Epoch: [30][ 250/1250]\tLoss 8.7931e-01 (9.7704e-01)\n",
      "Epoch: [30][ 275/1250]\tLoss 9.7838e-01 (9.7296e-01)\n",
      "Epoch: [30][ 300/1250]\tLoss 1.1185e+00 (9.7570e-01)\n",
      "Epoch: [30][ 325/1250]\tLoss 1.1259e+00 (9.7402e-01)\n",
      "Epoch: [30][ 350/1250]\tLoss 1.2028e+00 (9.7806e-01)\n",
      "Epoch: [30][ 375/1250]\tLoss 9.1693e-01 (9.7710e-01)\n",
      "Epoch: [30][ 400/1250]\tLoss 8.5309e-01 (9.7704e-01)\n",
      "Epoch: [30][ 425/1250]\tLoss 1.0679e+00 (9.7979e-01)\n",
      "Epoch: [30][ 450/1250]\tLoss 8.3118e-01 (9.7511e-01)\n",
      "Epoch: [30][ 475/1250]\tLoss 1.1867e+00 (9.7741e-01)\n",
      "Epoch: [30][ 500/1250]\tLoss 9.2944e-01 (9.7528e-01)\n",
      "Epoch: [30][ 525/1250]\tLoss 9.9992e-01 (9.7188e-01)\n",
      "Epoch: [30][ 550/1250]\tLoss 1.0429e+00 (9.7087e-01)\n",
      "Epoch: [30][ 575/1250]\tLoss 1.1140e+00 (9.7067e-01)\n",
      "Epoch: [30][ 600/1250]\tLoss 9.9949e-01 (9.7314e-01)\n",
      "Epoch: [30][ 625/1250]\tLoss 1.0082e+00 (9.7234e-01)\n",
      "Epoch: [30][ 650/1250]\tLoss 9.5317e-01 (9.7094e-01)\n",
      "Epoch: [30][ 675/1250]\tLoss 1.5174e+00 (9.7046e-01)\n",
      "Epoch: [30][ 700/1250]\tLoss 8.1080e-01 (9.6933e-01)\n",
      "Epoch: [30][ 725/1250]\tLoss 1.0426e+00 (9.6801e-01)\n",
      "Epoch: [30][ 750/1250]\tLoss 9.6060e-01 (9.6903e-01)\n",
      "Epoch: [30][ 775/1250]\tLoss 9.2435e-01 (9.6873e-01)\n",
      "Epoch: [30][ 800/1250]\tLoss 1.2807e+00 (9.6797e-01)\n",
      "Epoch: [30][ 825/1250]\tLoss 9.5180e-01 (9.6858e-01)\n",
      "Epoch: [30][ 850/1250]\tLoss 1.3566e+00 (9.6906e-01)\n",
      "Epoch: [30][ 875/1250]\tLoss 8.5219e-01 (9.6991e-01)\n",
      "Epoch: [30][ 900/1250]\tLoss 8.8134e-01 (9.6877e-01)\n",
      "Epoch: [30][ 925/1250]\tLoss 1.0020e+00 (9.7054e-01)\n",
      "Epoch: [30][ 950/1250]\tLoss 9.9761e-01 (9.7088e-01)\n",
      "Epoch: [30][ 975/1250]\tLoss 7.2281e-01 (9.7125e-01)\n",
      "Epoch: [30][1000/1250]\tLoss 1.0127e+00 (9.7164e-01)\n",
      "Epoch: [30][1025/1250]\tLoss 7.7946e-01 (9.7201e-01)\n",
      "Epoch: [30][1050/1250]\tLoss 1.0129e+00 (9.7323e-01)\n",
      "Epoch: [30][1075/1250]\tLoss 1.0812e+00 (9.7312e-01)\n",
      "Epoch: [30][1100/1250]\tLoss 1.0071e+00 (9.7369e-01)\n",
      "Epoch: [30][1125/1250]\tLoss 1.0076e+00 (9.7301e-01)\n",
      "Epoch: [30][1150/1250]\tLoss 9.3634e-01 (9.7273e-01)\n",
      "Epoch: [30][1175/1250]\tLoss 8.3971e-01 (9.7274e-01)\n",
      "Epoch: [30][1200/1250]\tLoss 6.1771e-01 (9.7203e-01)\n",
      "Epoch: [30][1225/1250]\tLoss 7.4609e-01 (9.7230e-01)\n",
      "Checkpoint ...\n"
     ]
    }
   ],
   "source": [
    "print(colored('Starting main loop', 'blue'))\n",
    "for epoch in range(start_epoch, p['epochs']):\n",
    "    print(colored('Epoch %d/%d' %(epoch, p['epochs']), 'yellow'))\n",
    "    print(colored('-'*15, 'yellow'))\n",
    "\n",
    "    # Adjust lr\n",
    "    lr = adjust_learning_rate(p, optimizer, epoch)\n",
    "    print('Adjusted learning rate to {:.5f}'.format(lr))\n",
    "\n",
    "    # Train\n",
    "    print('Train ...')\n",
    "    simclr_train(train_dataloader, model, criterion, optimizer, epoch)\n",
    "    \n",
    "    # Checkpoint\n",
    "    print('Checkpoint ...')\n",
    "    torch.save({'optimizer': optimizer.state_dict(), 'model': model.state_dict(), \n",
    "                'epoch': epoch + 1}, p['pretext_checkpoint'])\n",
    "\n",
    "# Save final model\n",
    "torch.save(model.state_dict(), p['pretext_model'])\n",
    "\n",
    "\n"
   ]
  },
  {
   "cell_type": "markdown",
   "id": "interpreted-brave",
   "metadata": {},
   "source": [
    "#### Save the validation raw_data, low_dim, labels into npy files"
   ]
  },
  {
   "cell_type": "code",
   "execution_count": 32,
   "id": "outstanding-agriculture",
   "metadata": {},
   "outputs": [
    {
     "name": "stdout",
     "output_type": "stream",
     "text": [
      "torch.Size([48, 1, 32, 32]) <class 'torch.Tensor'>\n",
      "torch.Size([48, 128]) <class 'torch.Tensor'>\n",
      "(48,)\n",
      "(48, 1, 32, 32)\n",
      "(48, 128)\n",
      "(10000,)\n",
      "(10000, 1, 32, 32)\n",
      "(10000, 128)\n"
     ]
    },
    {
     "data": {
      "text/plain": [
       "ContrastiveModel(\n",
       "  (backbone): SimpleNet(\n",
       "    (conv1): Conv2d(1, 32, kernel_size=(3, 3), stride=(1, 1))\n",
       "    (conv2): Conv2d(32, 64, kernel_size=(3, 3), stride=(1, 1))\n",
       "    (dropout1): Dropout(p=0.25, inplace=False)\n",
       "    (dropout2): Dropout(p=0.5, inplace=False)\n",
       "    (fc1): Linear(in_features=12544, out_features=128, bias=True)\n",
       "  )\n",
       "  (contrastive_head): Sequential(\n",
       "    (0): Linear(in_features=128, out_features=128, bias=True)\n",
       "    (1): ReLU()\n",
       "    (2): Linear(in_features=128, out_features=128, bias=True)\n",
       "  )\n",
       ")"
      ]
     },
     "execution_count": 32,
     "metadata": {},
     "output_type": "execute_result"
    }
   ],
   "source": [
    "labels = []\n",
    "raw_data = []\n",
    "low_dim_data = []\n",
    "for i, batch in enumerate(val_dataloader):\n",
    "        images = batch['image']\n",
    "        b, c, h, w = images.size()\n",
    "        \n",
    "        input_ = images\n",
    "        input_ = input_.cuda(non_blocking=True)\n",
    "        targets = batch['target'].cuda(non_blocking=True)\n",
    "        output_backbone = model.backbone(input_)\n",
    "        \n",
    "        labels.append(targets.cpu().detach().numpy())\n",
    "        raw_data.append(images.cpu().detach().numpy())\n",
    "        low_dim_data.append(output_backbone.cpu().detach().numpy())\n",
    "\n",
    "        if i == 0:\n",
    "            print(input_.shape, type(input_))\n",
    "            print(output_backbone.shape, type(output_backbone))\n",
    "        \n",
    "            print(labels[0].shape)\n",
    "            print(raw_data[0].shape)\n",
    "            print(low_dim_data[0].shape)\n",
    "    \n",
    "labels = np.concatenate(labels, axis=0)\n",
    "raw_data = np.concatenate(raw_data, axis=0)\n",
    "low_dim_data = np.concatenate(low_dim_data, axis=0)\n",
    "\n",
    "np.save(f\"{base_folder}/eval_mnist_y.npy\", labels)\n",
    "np.save(f\"{base_folder}/eval_mnist_X.npy\", raw_data)\n",
    "np.save(f\"{base_folder}/eval_mnist_low_dim_X.npy\", low_dim_data)\n",
    "\n",
    "print(labels.shape)\n",
    "print(raw_data.shape)\n",
    "print(low_dim_data.shape)\n",
    "\n",
    "model"
   ]
  },
  {
   "cell_type": "code",
   "execution_count": 33,
   "id": "metallic-virus",
   "metadata": {},
   "outputs": [
    {
     "name": "stdout",
     "output_type": "stream",
     "text": [
      "(10000,)\n",
      "(10000, 1, 32, 32)\n",
      "(10000, 1024)\n",
      "(10000, 128)\n"
     ]
    }
   ],
   "source": [
    "print(labels.shape)\n",
    "print(raw_data.shape)\n",
    "print(raw_data.reshape(raw_data.shape[0]*raw_data.shape[1],-1).shape)\n",
    "print(low_dim_data.shape)"
   ]
  },
  {
   "cell_type": "markdown",
   "id": "quick-maintenance",
   "metadata": {},
   "source": [
    "#### Umap both raw-data and low-dim representation"
   ]
  },
  {
   "cell_type": "code",
   "execution_count": 75,
   "id": "answering-blend",
   "metadata": {},
   "outputs": [],
   "source": [
    "import matplotlib.patheffects as PathEffects\n",
    "def plot_embedding_2d(emebd, colors, title):\n",
    "    classes_size = len(np.unique(colors))\n",
    "    palette = np.array(sns.color_palette(\"hls\", classes_size))\n",
    "\n",
    "    f = plt.figure(figsize=(8, 8))\n",
    "    ax = plt.subplot(aspect='equal')\n",
    "    sc = ax.scatter(emebd[:, 0], emebd[:, 1], lw=0, s=4,\n",
    "                    c=palette[colors.astype(np.int)])\n",
    "    plt.xlim(-25, 25)\n",
    "    plt.ylim(-25, 25)\n",
    "    plt.setp(ax, xticks=[], yticks=[])\n",
    "    plt.title(title, fontsize=18)\n",
    "\n",
    "    ax.axis('tight')\n",
    "\n",
    "    # Add the label caption\n",
    "    txts = []\n",
    "    for i in range(classes_size):\n",
    "\n",
    "        # Position of each label.\n",
    "        xtext, ytext = np.median(emebd[colors == i, :], axis=0)\n",
    "        txt = ax.text(xtext, ytext, str(i), fontsize=24)\n",
    "        txt.set_path_effects([\n",
    "            PathEffects.Stroke(linewidth=5, foreground=\"w\"),\n",
    "            PathEffects.Normal()])\n",
    "        txts.append(txt)\n",
    "    plt.show()\n",
    "    return f, ax, sc, txts"
   ]
  },
  {
   "cell_type": "code",
   "execution_count": 76,
   "id": "patent-ordering",
   "metadata": {},
   "outputs": [
    {
     "name": "stdout",
     "output_type": "stream",
     "text": [
      "run cell 2021-07-10 17:29:26\n",
      "(10000,)\n",
      "(10000, 1, 32, 32)\n",
      "(10000, 128)\n",
      "(10000, 1024)\n",
      "Start umap low_dim_data 2021-07-10 17:29:26\n",
      "low_dim_data.shape (10000, 128)\n",
      "End umap low_dim_data 2021-07-10 17:29:52\n",
      "Start umap raw_data_1d 2021-07-10 17:29:52\n",
      "raw_data_1d.shape (10000, 1024)\n",
      "End umap raw_data_1d 2021-07-10 17:30:14\n",
      "END\n"
     ]
    },
    {
     "data": {
      "image/png": "[encoded data removed]",
      "text/plain": [
       "<Figure size 576x576 with 1 Axes>"
      ]
     },
     "metadata": {},
     "output_type": "display_data"
    },
    {
     "data": {
      "image/png": "[encoded data removed]",
      "text/plain": [
       "<Figure size 576x576 with 1 Axes>"
      ]
     },
     "metadata": {},
     "output_type": "display_data"
    }
   ],
   "source": [
    "import umap\n",
    "import matplotlib.pyplot as plt\n",
    "import seaborn as sns\n",
    "import datetime\n",
    "import numpy as np\n",
    "print(\"run cell\", datetime.datetime.now().strftime(\"%Y-%m-%d %H:%M:%S\"))\n",
    "\n",
    "sns.set(context=\"paper\", style=\"white\")\n",
    "\n",
    "\n",
    "raw_data = np.load(f\"{base_folder}/eval_mnist_X.npy\")\n",
    "low_dim_data = np.load(f\"{base_folder}/eval_mnist_low_dim_X.npy\")\n",
    "labels = np.load(f\"{base_folder}/eval_mnist_y.npy\")\n",
    "raw_data_1d = raw_data.reshape(raw_data.shape[0], -1)\n",
    "\n",
    "print(labels.shape)\n",
    "print(raw_data.shape)\n",
    "print(low_dim_data.shape)\n",
    "print(raw_data_1d.shape)\n",
    "\n",
    "\n",
    "################## umap low_dim_data ##################\n",
    "\n",
    "print(\"Start umap low_dim_data\", datetime.datetime.now().strftime(\"%Y-%m-%d %H:%M:%S\"))\n",
    "print(\"low_dim_data.shape\", low_dim_data.shape)\n",
    "reducer = umap.UMAP(random_state=42)\n",
    "embedding = reducer.fit_transform(low_dim_data)\n",
    "print(\"End umap low_dim_data\", datetime.datetime.now().strftime(\"%Y-%m-%d %H:%M:%S\"))\n",
    "\n",
    "plot_embedding_2d(embedding, labels.astype(int), \"MNIST low_dim_data embedded into two dimensions by UMAP\")\n",
    "\n",
    "\n",
    "################## umap raw_data_1d ##################\n",
    "print(\"-\"*30)\n",
    "print(\"Start umap raw_data_1d\", datetime.datetime.now().strftime(\"%Y-%m-%d %H:%M:%S\"))\n",
    "print(\"raw_data_1d.shape\", raw_data_1d.shape)\n",
    "reducer = umap.UMAP(random_state=42)\n",
    "embedding = reducer.fit_transform(raw_data_1d)\n",
    "print(\"End umap raw_data_1d\", datetime.datetime.now().strftime(\"%Y-%m-%d %H:%M:%S\"))\n",
    "\n",
    "plot_embedding_2d(embedding, labels.astype(int), \"MNIST raw_data_1d embedded into two dimensions by UMAP\")\n",
    "\n",
    "print(\"END\")\n",
    "# fig, ax = plt.subplots(figsize=(12, 10))\n",
    "# color =  labels.astype(int)\n",
    "# plt.scatter(embedding[:, 0], embedding[:, 1], c=color, cmap=\"Spectral\", s=5)\n",
    "# plt.setp(ax, xticks=[], yticks=[])\n",
    "# plt.title(\"MNIST raw_data_1d embedded into two dimensions by UMAP\", fontsize=18)\n",
    "# cbar = plt.colorbar(boundaries=np.arange(11)-0.5)\n",
    "# cbar.set_ticks(np.arange(10))\n",
    "# plt.show()\n"
   ]
  }
 ],
 "metadata": {
  "kernelspec": {
   "display_name": "Python 3",
   "language": "python",
   "name": "python3"
  },
  "language_info": {
   "codemirror_mode": {
    "name": "ipython",
    "version": 3
   },
   "file_extension": ".py",
   "mimetype": "text/x-python",
   "name": "python",
   "nbconvert_exporter": "python",
   "pygments_lexer": "ipython3",
   "version": "3.7.9"
  }
 },
 "nbformat": 4,
 "nbformat_minor": 5
}
