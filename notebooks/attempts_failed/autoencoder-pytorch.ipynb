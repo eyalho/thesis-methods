{
 "cells": [
  {
   "cell_type": "markdown",
   "metadata": {},
   "source": [
    "Implementing an Autoencoder in PyTorch\n",
    "===\n",
    "\n",
    "This is the PyTorch equivalent of my previous article on implementing an autoencoder in TensorFlow 2.0, which you may read [here](https://towardsdatascience.com/implementing-an-autoencoder-in-tensorflow-2-0-5e86126e9f7)\n",
    "\n",
    "First, to install PyTorch, you may use the following pip command,\n",
    "\n",
    "```\n",
    "$ pip install torch torchvision\n",
    "```\n",
    "\n",
    "The `torchvision` package contains the image data sets that are ready for use in PyTorch.\n",
    "\n",
    "More details on its installation through [this guide](https://pytorch.org/get-started/locally/) from [pytorch.org](pytorch.org)."
   ]
  },
  {
   "cell_type": "markdown",
   "metadata": {},
   "source": [
    "## Setup\n",
    "\n",
    "We begin by importing our dependencies."
   ]
  },
  {
   "cell_type": "code",
   "execution_count": 8,
   "metadata": {},
   "outputs": [],
   "source": [
    "import matplotlib.pyplot as plt\n",
    "import numpy as np\n",
    "\n",
    "import torch\n",
    "import torch.nn as nn\n",
    "import torch.optim as optim\n",
    "import torchvision\n",
    "import torch"
   ]
  },
  {
   "cell_type": "markdown",
   "metadata": {},
   "source": [
    "Set our seed and other configurations for reproducibility."
   ]
  },
  {
   "cell_type": "code",
   "execution_count": 9,
   "metadata": {},
   "outputs": [],
   "source": [
    "seed = 42\n",
    "torch.manual_seed(seed)\n",
    "torch.backends.cudnn.benchmark = False\n",
    "torch.backends.cudnn.deterministic = True"
   ]
  },
  {
   "cell_type": "markdown",
   "metadata": {},
   "source": [
    "We set the batch size, the number of training epochs, and the learning rate."
   ]
  },
  {
   "cell_type": "code",
   "execution_count": 10,
   "metadata": {},
   "outputs": [],
   "source": [
    "batch_size = 512\n",
    "epochs = 20\n",
    "learning_rate = 1e-3"
   ]
  },
  {
   "cell_type": "markdown",
   "metadata": {},
   "source": [
    "## Dataset\n",
    "\n",
    "We load our MNIST dataset using the `torchvision` package. "
   ]
  },
  {
   "cell_type": "code",
   "execution_count": 11,
   "metadata": {},
   "outputs": [],
   "source": [
    "DATASET = \"flow_mnist\""
   ]
  },
  {
   "cell_type": "code",
   "execution_count": 12,
   "metadata": {
    "scrolled": true
   },
   "outputs": [],
   "source": [
    "#MNIST\n",
    "\n",
    "transform = torchvision.transforms.Compose([torchvision.transforms.ToTensor()])\n",
    "\n",
    "train_dataset = torchvision.datasets.MNIST(\n",
    "    root=\"~/torch_datasets\", train=True, transform=transform, download=True\n",
    ")\n",
    "\n",
    "train_loader = torch.utils.data.DataLoader(\n",
    "    train_dataset, batch_size=batch_size, shuffle=True\n",
    ")\n",
    "\n",
    "test_dataset = torchvision.datasets.MNIST(\n",
    "    root=\"~/torch_datasets\", train=False, transform=transform, download=True\n",
    ")\n",
    "\n",
    "test_loader = torch.utils.data.DataLoader(\n",
    "    test_dataset, batch_size=10, shuffle=False\n",
    ")"
   ]
  },
  {
   "cell_type": "code",
   "execution_count": 13,
   "metadata": {},
   "outputs": [
    {
     "name": "stdout",
     "output_type": "stream",
     "text": [
      "torch.Size([6672, 28, 28])\n",
      "torch.Size([6672])\n",
      "torch.Size([6672, 28, 28])\n",
      "torch.Size([6672])\n"
     ]
    }
   ],
   "source": [
    "#FLOW_MNIST\n",
    "\n",
    "if DATASET == \"flow_mnist\":\n",
    "    from flow_mnist_data_set import FlowMnistDataset\n",
    "    transform = torchvision.transforms.Compose([torchvision.transforms.ToTensor()])\n",
    "        \n",
    "    train_dataset = FlowMnistDataset(\"ucdavis\", \"up\", 60, transform=transform)\n",
    "    train_loader = torch.utils.data.DataLoader(train_dataset, batch_size=batch_size, shuffle=True)\n",
    "    train_loader.dataset.train_data = torch.from_numpy(train_loader.dataset.data)\n",
    "    train_loader.dataset.train_labels = torch.from_numpy(train_loader.dataset.labels)\n",
    "\n",
    "    \n",
    "    test_dataset = FlowMnistDataset(\"ucdavis\", \"up\", 60, transform=transform)\n",
    "    test_loader = torch.utils.data.DataLoader(test_dataset, batch_size=10, shuffle=False)\n",
    "    test_loader.dataset.test_data = torch.from_numpy(test_loader.dataset.data)\n",
    "    test_loader.dataset.test_labels = torch.from_numpy(test_loader.dataset.labels)\n",
    "\n",
    "\n",
    "    print(train_loader.dataset.train_data.shape)\n",
    "    print(train_loader.dataset.train_labels.shape)\n",
    "    print(test_loader.dataset.test_data.shape)\n",
    "    print(test_loader.dataset.test_labels.shape)\n",
    "\n",
    "\n"
   ]
  },
  {
   "cell_type": "code",
   "execution_count": 14,
   "metadata": {},
   "outputs": [
    {
     "name": "stdout",
     "output_type": "stream",
     "text": [
      "torch.Size([6672, 28, 28])\n",
      "torch.Size([6672])\n",
      "torch.Size([6672, 28, 28])\n",
      "torch.Size([6672])\n"
     ]
    }
   ],
   "source": [
    "# Reload flow_mnist_dataset\n",
    "print(train_loader.dataset.train_data.shape)\n",
    "print(train_loader.dataset.train_labels.shape)\n",
    "\n",
    "\n",
    "from flow_mnist_data_set import FlowMnistDataset\n",
    "from torchvision import transforms\n",
    "\n",
    "train_dataset = FlowMnistDataset(\"ucdavis\", \"up\", 60, transform=transform)\n",
    "\n",
    "train_loader = torch.utils.data.DataLoader(\n",
    "    train_dataset, batch_size=batch_size, shuffle=True\n",
    ")\n",
    "train_loader.dataset.train_data = torch.from_numpy(train_loader.dataset.data)\n",
    "train_loader.dataset.train_labels = torch.from_numpy(train_loader.dataset.labels)\n",
    "\n",
    "print(train_loader.dataset.train_data.shape)\n",
    "print(train_loader.dataset.train_labels.shape)\n",
    "\n"
   ]
  },
  {
   "cell_type": "markdown",
   "metadata": {},
   "source": [
    "## Autoencoder\n",
    "\n",
    "An autoencoder is a type of neural network that finds the function mapping the features x to itself. This objective is known as reconstruction, and an autoencoder accomplishes this through the following process: (1) an encoder learns the data representation in lower-dimension space, i.e. extracting the most salient features of the data, and (2) a decoder learns to reconstruct the original data based on the learned representation by the encoder.\n",
    "\n",
    "We define our autoencoder class with fully connected layers for both its encoder and decoder components."
   ]
  },
  {
   "cell_type": "code",
   "execution_count": 15,
   "metadata": {},
   "outputs": [],
   "source": [
    "class AE(nn.Module):\n",
    "    def __init__(self, **kwargs):\n",
    "        super().__init__()\n",
    "        self.encoder_hidden_layer = nn.Linear(\n",
    "            in_features=kwargs[\"input_shape\"], out_features=128\n",
    "        )\n",
    "        self.encoder_output_layer = nn.Linear(\n",
    "            in_features=128, out_features=128\n",
    "        )\n",
    "        self.decoder_hidden_layer = nn.Linear(\n",
    "            in_features=128, out_features=128\n",
    "        )\n",
    "        self.decoder_output_layer = nn.Linear(\n",
    "            in_features=128, out_features=kwargs[\"input_shape\"]\n",
    "        )\n",
    "\n",
    "    def forward(self, features):\n",
    "        activation = self.encoder_hidden_layer(features)\n",
    "        activation = torch.relu(activation)\n",
    "        code = self.encoder_output_layer(activation)\n",
    "        code = torch.sigmoid(code)\n",
    "        activation = self.decoder_hidden_layer(code)\n",
    "        activation = torch.relu(activation)\n",
    "        activation = self.decoder_output_layer(activation)\n",
    "        reconstructed = torch.sigmoid(activation)\n",
    "        return reconstructed, code"
   ]
  },
  {
   "cell_type": "markdown",
   "metadata": {},
   "source": [
    "Before using our defined autoencoder class, we have the following things to do:\n",
    "    1. We configure which device we want to run on.\n",
    "    2. We instantiate an `AE` object.\n",
    "    3. We define our optimizer.\n",
    "    4. We define our reconstruction loss."
   ]
  },
  {
   "cell_type": "code",
   "execution_count": 16,
   "metadata": {},
   "outputs": [
    {
     "name": "stderr",
     "output_type": "stream",
     "text": [
      "/home/eyal/anaconda3/envs/tutorials/lib/python3.7/site-packages/torch/cuda/__init__.py:52: UserWarning: CUDA initialization: Found no NVIDIA driver on your system. Please check that you have an NVIDIA GPU and installed a driver from http://www.nvidia.com/Download/index.aspx (Triggered internally at  /opt/conda/conda-bld/pytorch_1603729047590/work/c10/cuda/CUDAFunctions.cpp:100.)\n",
      "  return torch._C._cuda_getDeviceCount() > 0\n"
     ]
    }
   ],
   "source": [
    "#  use gpu if available\n",
    "device = torch.device(\"cuda\" if torch.cuda.is_available() else \"cpu\")\n",
    "\n",
    "# create a model from `AE` autoencoder class\n",
    "# load it to the specified device, either gpu or cpu\n",
    "model = AE(input_shape=784).to(device)\n",
    "\n",
    "# create an optimizer object\n",
    "# Adam optimizer with learning rate 1e-3\n",
    "optimizer = optim.Adam(model.parameters(), lr=learning_rate)\n",
    "\n",
    "# mean-squared error loss\n",
    "criterion = nn.MSELoss()"
   ]
  },
  {
   "cell_type": "markdown",
   "metadata": {},
   "source": [
    "We train our autoencoder for our specified number of epochs."
   ]
  },
  {
   "cell_type": "code",
   "execution_count": 17,
   "metadata": {},
   "outputs": [
    {
     "name": "stdout",
     "output_type": "stream",
     "text": [
      "epoch : 1/20, recon loss = 0.19403388\n",
      "epoch : 2/20, recon loss = 0.04171249\n",
      "epoch : 3/20, recon loss = 0.00390103\n",
      "epoch : 4/20, recon loss = 0.00284401\n",
      "epoch : 5/20, recon loss = 0.00292549\n",
      "epoch : 6/20, recon loss = 0.00283215\n",
      "epoch : 7/20, recon loss = 0.00278988\n",
      "epoch : 8/20, recon loss = 0.00289348\n",
      "epoch : 9/20, recon loss = 0.00271337\n",
      "epoch : 10/20, recon loss = 0.00261435\n",
      "epoch : 11/20, recon loss = 0.00272943\n",
      "epoch : 12/20, recon loss = 0.00268955\n",
      "epoch : 13/20, recon loss = 0.00260074\n",
      "epoch : 14/20, recon loss = 0.00263405\n",
      "epoch : 15/20, recon loss = 0.00257614\n",
      "epoch : 16/20, recon loss = 0.00255395\n",
      "epoch : 17/20, recon loss = 0.00252528\n",
      "epoch : 18/20, recon loss = 0.00256547\n",
      "epoch : 19/20, recon loss = 0.00247758\n",
      "epoch : 20/20, recon loss = 0.00252038\n"
     ]
    }
   ],
   "source": [
    "for epoch in range(epochs):\n",
    "    loss = 0\n",
    "    for batch_features, _ in train_loader:\n",
    "        \n",
    "        # reshape mini-batch data to [N, 784] matrix\n",
    "        # load it to the active device\n",
    "        batch_features = batch_features.view(-1, 784).to(device)\n",
    "        \n",
    "        # reset the gradients back to zero\n",
    "        # PyTorch accumulates gradients on subsequent backward passes\n",
    "        optimizer.zero_grad()\n",
    "        \n",
    "        # compute reconstructions\n",
    "        outputs, _ = model(batch_features)\n",
    "        \n",
    "        # compute training reconstruction loss\n",
    "        train_loss = criterion(outputs, batch_features)\n",
    "        \n",
    "        # compute accumulated gradients\n",
    "        train_loss.backward()\n",
    "        \n",
    "        # perform parameter update based on current gradients\n",
    "        optimizer.step()\n",
    "        \n",
    "        # add the mini-batch training loss to epoch loss\n",
    "        loss += train_loss.item()\n",
    "    \n",
    "    # compute the epoch training loss\n",
    "    loss = loss / len(train_loader)\n",
    "    \n",
    "    # display the epoch training loss\n",
    "    print(\"epoch : {}/{}, recon loss = {:.8f}\".format(epoch + 1, epochs, loss))"
   ]
  },
  {
   "cell_type": "markdown",
   "metadata": {},
   "source": [
    "Let's extract some test examples to reconstruct using our trained autoencoder."
   ]
  },
  {
   "cell_type": "code",
   "execution_count": 33,
   "metadata": {},
   "outputs": [
    {
     "name": "stdout",
     "output_type": "stream",
     "text": [
      "encoded_out.shape torch.Size([2, 128])\n",
      "all_enc_out.shape torch.Size([6672, 128])\n",
      "batch_y.shape torch.Size([2, 1])\n",
      "batch_features.shape torch.Size([2, 28, 28])\n",
      "batch_y.shape torch.Size([2, 1])\n",
      "all_reg_x.shape torch.Size([6672, 28, 28])\n",
      "\n"
     ]
    }
   ],
   "source": [
    "\n",
    "\n",
    "test_examples = None\n",
    "\n",
    "all_reg_x = []\n",
    "all_enc_out = []\n",
    "all_y = []\n",
    "all_reconstruction = []\n",
    "with torch.no_grad():\n",
    "    for batch_features in test_loader:\n",
    "        batch_y = batch_features[1].view(len(batch_features[1]),1)\n",
    "        batch_features = batch_features[0]\n",
    "        test_examples = batch_features.view(-1, 784)\n",
    "        reconstruction, encoded_out = model(test_examples)\n",
    "        all_enc_out.append(encoded_out)\n",
    "        all_reg_x.append(batch_features.squeeze(1))\n",
    "        all_y.append(batch_y)\n",
    "        all_reconstruction.append(reconstruction)\n",
    "all_enc_out = torch.vstack(tuple(all_enc_out))\n",
    "all_y = torch.vstack(tuple(all_y))\n",
    "all_reg_x = torch.vstack(tuple(all_reg_x))\n",
    "all_reconstruction = torch.vstack(tuple(all_reconstruction))\n",
    "print(\"encoded_out.shape\", encoded_out.shape)\n",
    "print(\"all_enc_out.shape\", all_enc_out.shape)\n",
    "print(\"batch_y.shape\", batch_y.shape)\n",
    "print(\"batch_features.shape\", batch_features.squeeze(1).shape)\n",
    "print(\"batch_y.shape\", batch_y.shape)\n",
    "print(\"all_reg_x.shape\", all_reg_x.shape)\n",
    "\n",
    "\n",
    "print()"
   ]
  },
  {
   "cell_type": "code",
   "execution_count": 34,
   "metadata": {},
   "outputs": [
    {
     "name": "stdout",
     "output_type": "stream",
     "text": [
      "torch.Size([6672, 784])\n"
     ]
    }
   ],
   "source": [
    "print(all_reconstruction.shape)"
   ]
  },
  {
   "cell_type": "markdown",
   "metadata": {},
   "source": [
    "## Visualize Results\n",
    "\n",
    "Let's try to reconstruct some test images using our trained autoencoder."
   ]
  },
  {
   "cell_type": "code",
   "execution_count": 36,
   "metadata": {},
   "outputs": [
    {
     "name": "stdout",
     "output_type": "stream",
     "text": [
      "5\n"
     ]
    },
    {
     "data": {
      "image/png": "[encoded data removed]",
      "text/plain": [
       "<Figure size 1440x288 with 10 Axes>"
      ]
     },
     "metadata": {
      "needs_background": "light"
     },
     "output_type": "display_data"
    }
   ],
   "source": [
    "with torch.no_grad():\n",
    "    y = train_loader.dataset.train_labels\n",
    "    number = len(np.unique(y))\n",
    "    print(number)\n",
    "    plt.figure(figsize=(20, 4))\n",
    "    for index in range(number):\n",
    "        # display original\n",
    "        ax = plt.subplot(2, number, index + 1)\n",
    "        plt.imshow(all_reg_x[index].numpy().reshape(28, 28))\n",
    "        plt.gray()\n",
    "        ax.get_xaxis().set_visible(False)\n",
    "        ax.get_yaxis().set_visible(False)\n",
    "\n",
    "        # display reconstruction\n",
    "        ax = plt.subplot(2, number, index + 1 + number)\n",
    "        plt.imshow(all_reconstruction[index].numpy().reshape(28, 28))\n",
    "        plt.gray()\n",
    "        ax.get_xaxis().set_visible(False)\n",
    "        ax.get_yaxis().set_visible(False)\n",
    "    plt.show()"
   ]
  },
  {
   "cell_type": "code",
   "execution_count": 21,
   "metadata": {
    "pycharm": {
     "name": "#%%\n"
    }
   },
   "outputs": [
    {
     "data": {
      "text/plain": [
       "torch.Size([6672, 128])"
      ]
     },
     "execution_count": 21,
     "metadata": {},
     "output_type": "execute_result"
    }
   ],
   "source": [
    "all_enc_out.shape"
   ]
  },
  {
   "cell_type": "code",
   "execution_count": 20,
   "metadata": {},
   "outputs": [],
   "source": [
    "np.save(\"npy/autoencoder_flow_mnist_X.npy\", all_reg_x.cpu().detach().numpy())\n",
    "np.save(\"npy/autoencoder_flow_mnist_enc_X.npy\", all_enc_out.cpu().detach().numpy())\n",
    "np.save(\"npy/autoencoder_flow_mnist_y.npy\", all_y.cpu().detach().numpy())"
   ]
  }
 ],
 "metadata": {
  "kernelspec": {
   "display_name": "Python 3",
   "language": "python",
   "name": "python3"
  },
  "language_info": {
   "codemirror_mode": {
    "name": "ipython",
    "version": 3
   },
   "file_extension": ".py",
   "mimetype": "text/x-python",
   "name": "python",
   "nbconvert_exporter": "python",
   "pygments_lexer": "ipython3",
   "version": "3.7.9"
  }
 },
 "nbformat": 4,
 "nbformat_minor": 2
}
